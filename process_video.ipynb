{
 "cells": [
  {
   "cell_type": "markdown",
   "id": "7e0e7d31",
   "metadata": {},
   "source": [
    "## process video\n"
   ]
  },
  {
   "cell_type": "code",
   "execution_count": 30,
   "id": "8b499146",
   "metadata": {},
   "outputs": [
    {
     "name": "stdout",
     "output_type": "stream",
     "text": [
      "Processing: /Users/akmaurya/OneDrive - Stanford/Data_01/Redesigned_Plastics/May_2025/Camera/Run8/Run8_insitu_PHA3B_02_50rpm_1mmpmin_BL17-2 Camera #6 - Hit Esc to close 2025-05-26 16-01-57.mp4\n"
     ]
    },
    {
     "name": "stderr",
     "output_type": "stream",
     "text": [
      "\n",
      "\u001b[A                                                                    \n",
      "\u001b[A                                                                    "
     ]
    },
    {
     "name": "stdout",
     "output_type": "stream",
     "text": [
      "MoviePy - Building video /Users/akmaurya/OneDrive - Stanford/Data_01/Redesigned_Plastics/May_2025/Camera/Run8/Run8_insitu_PHA3B_02_50rpm_1mmpmin_BL17-2 Camera #6 - Hit Esc to close 2025-05-26 16-01-57_processed.mp4.\n",
      "MoviePy - Writing video /Users/akmaurya/OneDrive - Stanford/Data_01/Redesigned_Plastics/May_2025/Camera/Run8/Run8_insitu_PHA3B_02_50rpm_1mmpmin_BL17-2 Camera #6 - Hit Esc to close 2025-05-26 16-01-57_processed.mp4\n",
      "\n"
     ]
    },
    {
     "name": "stderr",
     "output_type": "stream",
     "text": [
      "                                                                        \n",
      "\u001b[A                                                                    \n",
      "\u001b[A                                                                    "
     ]
    },
    {
     "name": "stdout",
     "output_type": "stream",
     "text": [
      "MoviePy - Done !\n",
      "MoviePy - video ready /Users/akmaurya/OneDrive - Stanford/Data_01/Redesigned_Plastics/May_2025/Camera/Run8/Run8_insitu_PHA3B_02_50rpm_1mmpmin_BL17-2 Camera #6 - Hit Esc to close 2025-05-26 16-01-57_processed.mp4\n"
     ]
    }
   ],
   "source": [
    "import os\n",
    "import fnmatch\n",
    "from moviepy.video.io.VideoFileClip import VideoFileClip\n",
    "from moviepy.video.VideoClip import VideoClip\n",
    "\n",
    "def crop_frame(frame, x1, y1, crop_w, crop_h):\n",
    "    return frame[y1:y1+crop_h, x1:x1+crop_w]\n",
    "\n",
    "def process_video(folder_path, name_part, crop_size=(400, 400), speed_factor=2.0, output_suffix='_processed'):\n",
    "    video_files = fnmatch.filter(os.listdir(folder_path), f\"*{name_part}*.mp4\")\n",
    "    \n",
    "    if not video_files:\n",
    "        print(f\"No video files found with '{name_part}' in {folder_path}\")\n",
    "        return\n",
    "    \n",
    "    for video_file in video_files:\n",
    "        input_path = os.path.join(folder_path, video_file)\n",
    "        print(f\"Processing: {input_path}\")\n",
    "\n",
    "        clip = VideoFileClip(input_path)\n",
    "        w, h = clip.size\n",
    "        crop_w, crop_h = crop_size\n",
    "        x1 = 0\n",
    "        y1 = 0\n",
    "\n",
    "        new_duration = clip.duration / speed_factor\n",
    "        fps = clip.fps if hasattr(clip, 'fps') else 24  # fallback fps\n",
    "\n",
    "        def make_frame(t):\n",
    "            original_t = t * speed_factor\n",
    "            frame = clip.get_frame(original_t)\n",
    "            return crop_frame(frame, x1, y1, crop_w, crop_h)\n",
    "\n",
    "        cropped_fast_clip = VideoClip(make_frame, duration=new_duration)\n",
    "\n",
    "        output_name = os.path.splitext(video_file)[0] + output_suffix + '.mp4'\n",
    "        output_path = os.path.join(folder_path, output_name)\n",
    "\n",
    "        # Pass fps explicitly here\n",
    "        cropped_fast_clip.write_videofile(output_path, codec='libx264', fps=fps)\n",
    "\n",
    "        clip.close()\n",
    "        cropped_fast_clip.close()\n",
    "\n",
    "# Example usage:\n",
    "base_data_dir = '/Users/akmaurya/OneDrive - Stanford/Data_01/Redesigned_Plastics/May_2025/Camera/Run8'\n",
    "process_video(base_data_dir, \"Run8_insitu_PHA3B_02_50rpm_1mmpmin_BL17-2\", crop_size=(650,600), speed_factor=90)\n",
    "\n",
    "\n"
   ]
  }
 ],
 "metadata": {
  "kernelspec": {
   "display_name": "bl17_2",
   "language": "python",
   "name": "python3"
  },
  "language_info": {
   "codemirror_mode": {
    "name": "ipython",
    "version": 3
   },
   "file_extension": ".py",
   "mimetype": "text/x-python",
   "name": "python",
   "nbconvert_exporter": "python",
   "pygments_lexer": "ipython3",
   "version": "3.12.4"
  }
 },
 "nbformat": 4,
 "nbformat_minor": 5
}
